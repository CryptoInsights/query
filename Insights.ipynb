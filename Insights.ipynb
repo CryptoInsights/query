{
 "cells": [
  {
   "cell_type": "code",
   "execution_count": 53,
   "metadata": {},
   "outputs": [],
   "source": [
    "import time\n",
    "from db import status\n",
    "from db import ticker"
   ]
  },
  {
   "cell_type": "code",
   "execution_count": 60,
   "metadata": {},
   "outputs": [
    {
     "name": "stdout",
     "output_type": "stream",
     "text": [
      "Status OK\n"
     ]
    }
   ],
   "source": [
    "# We need to check whether the data source has been successfully ingested\n",
    "\n",
    "def is_status_valid(status):\n",
    "    # we check if the timestamp is within an hour\n",
    "    timestamp_now = int(time.time())\n",
    "    valid_time = timestamp_now - status['timestamp'] <= 3700 # an hour + 100 sec\n",
    "    # then check if there was any error\n",
    "    has_error = status['error'] == None\n",
    "    \n",
    "    return has_error and valid_time\n",
    "\n",
    "latest_status = status.get_latest_status()\n",
    "if not is_status_valid(latest_status):\n",
    "    print(latest_status)\n",
    "    raise Exception('Wrong status detected, please verify')\n",
    "else:\n",
    "    print('Status OK')"
   ]
  },
  {
   "cell_type": "code",
   "execution_count": 61,
   "metadata": {},
   "outputs": [
    {
     "name": "stdout",
     "output_type": "stream",
     "text": [
      "Got 1506 data\n"
     ]
    }
   ],
   "source": [
    "def get_ticker_data():\n",
    "    raw_data = list(ticker.get_all_tickers())\n",
    "    \n",
    "    # convert price data into float\n",
    "    def convert_prices_to_float(price):\n",
    "        for k, v in price.items():\n",
    "            if k != 'id' and v != None:\n",
    "                price[k] = float(v)\n",
    "        return price\n",
    "    \n",
    "    for d in raw_data:\n",
    "        d['price_list'] = list(map(convert_prices_to_float, d['price_list']))\n",
    "        \n",
    "    return raw_data\n",
    "            \n",
    "            \n",
    "data = get_ticker_data()\n",
    "print('Got %d data' % len(data))"
   ]
  },
  {
   "cell_type": "code",
   "execution_count": 63,
   "metadata": {},
   "outputs": [
    {
     "name": "stdout",
     "output_type": "stream",
     "text": [
      "{'_id': ObjectId('5a71095823aefd000f89b48d'), 'id': 'ethereum', 'name': 'Ethereum', 'symbol': 'ETH', 'max_supply': None, 'price_list': [{'id': 'ethereum', 'price_usd': 1039.23, 'price_btc': 0.106895, '24h_volume_usd': 4134600000.0, 'market_cap_usd': 101131093568.0, 'available_supply': 97313486.0, 'total_supply': 97313486.0, 'percent_change_1h': -3.0, 'percent_change_24h': -11.49, 'percent_change_7d': 5.26, 'last_updated': 1517360653.0}, {'id': 'ethereum', 'price_usd': 1070.29, 'price_btc': 0.10715, '24h_volume_usd': 4109090000.0, 'market_cap_usd': 104152738943.0, 'available_supply': 97312634.0, 'total_supply': 97312634.0, 'percent_change_1h': -1.96, 'percent_change_24h': -9.23, 'percent_change_7d': 8.23, 'last_updated': 1517357352.0}]}\n"
     ]
    }
   ],
   "source": [
    "print(data[1])"
   ]
  },
  {
   "cell_type": "code",
   "execution_count": null,
   "metadata": {},
   "outputs": [],
   "source": []
  }
 ],
 "metadata": {
  "kernelspec": {
   "display_name": "Python 3",
   "language": "python",
   "name": "python3"
  },
  "language_info": {
   "codemirror_mode": {
    "name": "ipython",
    "version": 3
   },
   "file_extension": ".py",
   "mimetype": "text/x-python",
   "name": "python",
   "nbconvert_exporter": "python",
   "pygments_lexer": "ipython3",
   "version": "3.6.3"
  }
 },
 "nbformat": 4,
 "nbformat_minor": 2
}
